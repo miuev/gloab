{
 "cells": [
  {
   "attachments": {},
   "cell_type": "markdown",
   "metadata": {},
   "source": [
    "This notebook demonstrates how `gloab` can be used to convert atomic structure files to global connectivity values.\n",
    "The package reads files using `ase`'s `read` utility: it can therefore interpret any structure file that `ase` can.\n",
    "Example structure files are provided in VASP POSCAR format, but this is not a strict requirement to use this package.\n",
    "First, we import the necessary functions from `gloab` and `ase`."
   ]
  },
  {
   "cell_type": "code",
   "execution_count": null,
   "metadata": {},
   "outputs": [],
   "source": [
    "from gloab.encode import Laplacian\n",
    "from ase.io import read"
   ]
  },
  {
   "attachments": {},
   "cell_type": "markdown",
   "metadata": {},
   "source": [
    "Next, we can read in one of the example structures.\n",
    "In this case we look at titanium dioxide.\n",
    "Then, we call on the `Laplacian` class to generate an instance which can be interrogated for connectivity information deduced from the underlying titanium dioxide strucutre."
   ]
  },
  {
   "cell_type": "code",
   "execution_count": 2,
   "metadata": {},
   "outputs": [],
   "source": [
    "tio2 = read('structures/tio2_bulk_opt.vasp')\n",
    "tio2_laplacian = Laplacian(atoms = tio2, basis = 'adjacency', cutoff = None, normalize = True, radii = None)"
   ]
  },
  {
   "attachments": {},
   "cell_type": "markdown",
   "metadata": {},
   "source": [
    "For example, we can look directly at the symmetric normalized Laplacian which corresponds to the particular structure of titanium dioxide given by `structures/tio2_bulk_opt.vasp`.\n",
    "Assigning `adjacency` to the `basis` flag indicates that only nearest neighbor information, e.g. degrees and neighbor identities, is included in the formulation of the Laplacian.\n",
    "Assigning `distances` would instead use atom-to-atom distances.\n",
    "The `cutoff` and `radii` flags control which atoms are considered neighbors and what atomic radii should be used to determine neighbors.\n",
    "The `normalize` flag controls the output Laplacian, with a `True` normalization producing the symmetric normalized type."
   ]
  },
  {
   "cell_type": "code",
   "execution_count": 7,
   "metadata": {},
   "outputs": [
    {
     "name": "stdout",
     "output_type": "stream",
     "text": [
      "[[ 1.          0.          0.          0.          0.          0.\n",
      "   0.          0.         -0.23570226  0.         -0.23570226 -0.23570226\n",
      "  -0.23570226  0.         -0.47140452  0.          0.          0.\n",
      "   0.          0.          0.          0.          0.          0.        ]\n",
      " [ 0.          1.          0.          0.          0.          0.\n",
      "   0.          0.          0.         -0.23570226 -0.23570226 -0.23570226\n",
      "   0.         -0.23570226  0.         -0.47140452  0.          0.\n",
      "   0.          0.          0.          0.          0.          0.        ]\n",
      " [ 0.          0.          1.          0.          0.          0.\n",
      "   0.          0.          0.          0.          0.          0.\n",
      "  -0.47140452  0.         -0.23570226  0.         -0.23570226 -0.23570226\n",
      "  -0.23570226  0.          0.          0.          0.          0.        ]\n",
      " [ 0.          0.          0.          1.          0.          0.\n",
      "   0.          0.          0.          0.          0.          0.\n",
      "   0.         -0.47140452  0.         -0.23570226 -0.23570226 -0.23570226\n",
      "   0.         -0.23570226  0.          0.          0.          0.        ]\n",
      " [ 0.          0.          0.          0.          1.          0.\n",
      "   0.          0.          0.          0.          0.          0.\n",
      "   0.          0.          0.          0.         -0.23570226  0.\n",
      "  -0.23570226 -0.23570226 -0.23570226  0.         -0.47140452  0.        ]\n",
      " [ 0.          0.          0.          0.          0.          1.\n",
      "   0.          0.          0.          0.          0.          0.\n",
      "   0.          0.          0.          0.          0.         -0.23570226\n",
      "  -0.23570226 -0.23570226  0.         -0.23570226  0.         -0.47140452]\n",
      " [ 0.          0.          0.          0.          0.          0.\n",
      "   1.          0.         -0.23570226 -0.23570226 -0.23570226  0.\n",
      "   0.          0.          0.          0.          0.          0.\n",
      "   0.          0.         -0.47140452  0.         -0.23570226  0.        ]\n",
      " [ 0.          0.          0.          0.          0.          0.\n",
      "   0.          1.         -0.23570226 -0.23570226  0.         -0.23570226\n",
      "   0.          0.          0.          0.          0.          0.\n",
      "   0.          0.          0.         -0.47140452  0.         -0.23570226]\n",
      " [-0.23570226  0.          0.          0.          0.          0.\n",
      "  -0.23570226 -0.23570226  1.          0.          0.          0.\n",
      "   0.          0.          0.          0.          0.          0.\n",
      "   0.          0.          0.          0.          0.          0.        ]\n",
      " [ 0.         -0.23570226  0.          0.          0.          0.\n",
      "  -0.23570226 -0.23570226  0.          1.          0.          0.\n",
      "   0.          0.          0.          0.          0.          0.\n",
      "   0.          0.          0.          0.          0.          0.        ]\n",
      " [-0.23570226 -0.23570226  0.          0.          0.          0.\n",
      "  -0.23570226  0.          0.          0.          1.          0.\n",
      "   0.          0.          0.          0.          0.          0.\n",
      "   0.          0.          0.          0.          0.          0.        ]\n",
      " [-0.23570226 -0.23570226  0.          0.          0.          0.\n",
      "   0.         -0.23570226  0.          0.          0.          1.\n",
      "   0.          0.          0.          0.          0.          0.\n",
      "   0.          0.          0.          0.          0.          0.        ]\n",
      " [-0.23570226  0.         -0.47140452  0.          0.          0.\n",
      "   0.          0.          0.          0.          0.          0.\n",
      "   1.          0.          0.          0.          0.          0.\n",
      "   0.          0.          0.          0.          0.          0.        ]\n",
      " [ 0.         -0.23570226  0.         -0.47140452  0.          0.\n",
      "   0.          0.          0.          0.          0.          0.\n",
      "   0.          1.          0.          0.          0.          0.\n",
      "   0.          0.          0.          0.          0.          0.        ]\n",
      " [-0.47140452  0.         -0.23570226  0.          0.          0.\n",
      "   0.          0.          0.          0.          0.          0.\n",
      "   0.          0.          1.          0.          0.          0.\n",
      "   0.          0.          0.          0.          0.          0.        ]\n",
      " [ 0.         -0.47140452  0.         -0.23570226  0.          0.\n",
      "   0.          0.          0.          0.          0.          0.\n",
      "   0.          0.          0.          1.          0.          0.\n",
      "   0.          0.          0.          0.          0.          0.        ]\n",
      " [ 0.          0.         -0.23570226 -0.23570226 -0.23570226  0.\n",
      "   0.          0.          0.          0.          0.          0.\n",
      "   0.          0.          0.          0.          1.          0.\n",
      "   0.          0.          0.          0.          0.          0.        ]\n",
      " [ 0.          0.         -0.23570226 -0.23570226  0.         -0.23570226\n",
      "   0.          0.          0.          0.          0.          0.\n",
      "   0.          0.          0.          0.          0.          1.\n",
      "   0.          0.          0.          0.          0.          0.        ]\n",
      " [ 0.          0.         -0.23570226  0.         -0.23570226 -0.23570226\n",
      "   0.          0.          0.          0.          0.          0.\n",
      "   0.          0.          0.          0.          0.          0.\n",
      "   1.          0.          0.          0.          0.          0.        ]\n",
      " [ 0.          0.          0.         -0.23570226 -0.23570226 -0.23570226\n",
      "   0.          0.          0.          0.          0.          0.\n",
      "   0.          0.          0.          0.          0.          0.\n",
      "   0.          1.          0.          0.          0.          0.        ]\n",
      " [ 0.          0.          0.          0.         -0.23570226  0.\n",
      "  -0.47140452  0.          0.          0.          0.          0.\n",
      "   0.          0.          0.          0.          0.          0.\n",
      "   0.          0.          1.          0.          0.          0.        ]\n",
      " [ 0.          0.          0.          0.          0.         -0.23570226\n",
      "   0.         -0.47140452  0.          0.          0.          0.\n",
      "   0.          0.          0.          0.          0.          0.\n",
      "   0.          0.          0.          1.          0.          0.        ]\n",
      " [ 0.          0.          0.          0.         -0.47140452  0.\n",
      "  -0.23570226  0.          0.          0.          0.          0.\n",
      "   0.          0.          0.          0.          0.          0.\n",
      "   0.          0.          0.          0.          1.          0.        ]\n",
      " [ 0.          0.          0.          0.          0.         -0.47140452\n",
      "   0.         -0.23570226  0.          0.          0.          0.\n",
      "   0.          0.          0.          0.          0.          0.\n",
      "   0.          0.          0.          0.          0.          1.        ]]\n"
     ]
    }
   ],
   "source": [
    "print(tio2_laplacian.laplacian)"
   ]
  },
  {
   "attachments": {},
   "cell_type": "markdown",
   "metadata": {},
   "source": [
    "Instead of the full Laplacian that encodes the structure identity, we can directly ask the class for a global connectivity value for the structure."
   ]
  },
  {
   "cell_type": "code",
   "execution_count": 8,
   "metadata": {},
   "outputs": [
    {
     "name": "stdout",
     "output_type": "stream",
     "text": [
      "0.04459614818484036\n"
     ]
    }
   ],
   "source": [
    "print(tio2_laplacian.global_connectivity)"
   ]
  },
  {
   "attachments": {},
   "cell_type": "markdown",
   "metadata": {},
   "source": [
    "The next two cells show how this approach can be used to loop through a list of different structures or a large database."
   ]
  },
  {
   "cell_type": "code",
   "execution_count": 9,
   "metadata": {},
   "outputs": [],
   "source": [
    "oxides = ['tio2', 'vo2', 'wo3', 'moo3', 'v2o5']"
   ]
  },
  {
   "cell_type": "code",
   "execution_count": 10,
   "metadata": {},
   "outputs": [
    {
     "name": "stdout",
     "output_type": "stream",
     "text": [
      "tio2 global connectivity = 0.0446\n",
      "vo2 global connectivity = 0.0290\n",
      "wo3 global connectivity = 0.0281\n",
      "moo3 global connectivity = 0.0169\n",
      "v2o5 global connectivity = 0.0126\n"
     ]
    }
   ],
   "source": [
    "for oxide in oxides:\n",
    "    atoms = read('structures/' + oxide + '_bulk_opt.vasp')\n",
    "    laplacian = Laplacian(atoms = atoms, basis = 'adjacency', cutoff = None, normalize = True, radii = None)\n",
    "    print(oxide + ' global connectivity = {:.4f}'.format(laplacian.global_connectivity))"
   ]
  },
  {
   "cell_type": "code",
   "execution_count": null,
   "metadata": {},
   "outputs": [],
   "source": []
  }
 ],
 "metadata": {
  "kernelspec": {
   "display_name": "Python 3",
   "language": "python",
   "name": "python3"
  },
  "language_info": {
   "codemirror_mode": {
    "name": "ipython",
    "version": 3
   },
   "file_extension": ".py",
   "mimetype": "text/x-python",
   "name": "python",
   "nbconvert_exporter": "python",
   "pygments_lexer": "ipython3",
   "version": "3.10.6"
  },
  "orig_nbformat": 4
 },
 "nbformat": 4,
 "nbformat_minor": 2
}
